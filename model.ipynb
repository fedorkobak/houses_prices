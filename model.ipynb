{
 "cells": [
  {
   "cell_type": "markdown",
   "id": "acbf3ed0-559f-4284-bc98-2d5132ce6a8c",
   "metadata": {},
   "source": [
    "# House prices"
   ]
  },
  {
   "cell_type": "code",
   "execution_count": 10,
   "id": "b614413a-bfc2-47a8-96af-199b99b6673b",
   "metadata": {},
   "outputs": [],
   "source": [
    "import numpy as np\n",
    "import pandas as pd\n",
    "\n",
    "from sklearn.compose import ColumnTransformer\n",
    "from sklearn.preprocessing import (\n",
    "    OneHotEncoder,\n",
    "    TargetEncoder,\n",
    "    StandardScaler\n",
    ")\n",
    "from sklearn.ensemble import RandomForestRegressor\n",
    "from sklearn.pipeline import Pipeline"
   ]
  },
  {
   "cell_type": "markdown",
   "id": "f1676146-d622-48ac-bab1-9232adc21d7d",
   "metadata": {},
   "source": [
    "## Data loading"
   ]
  },
  {
   "cell_type": "code",
   "execution_count": 2,
   "id": "9783b115-0d55-4b69-ac97-4318d2238caa",
   "metadata": {},
   "outputs": [],
   "source": [
    "train_data_link = \"https://storage.googleapis.com/kagglesdsdata/competitions/10211/111096/train.csv?GoogleAccessId=web-data@kaggle-161607.iam.gserviceaccount.com&Expires=1700329433&Signature=xWLQoWm5AFNswwtoSdz4fB5VtSvQRE4PESVJQE5oygFXQG4blCuSv36pLcY4An00SDKa6%2FdGgd6OBiNrJOAwqjmoNpq2Z44YXx6OpEcXAWi%2BTMV1ld7Uks10yaneHRDyxUvHnTqgREnyLrQ%2FExcFsf9%2FRy%2F5GhunNUQGocgD05CKTqsIefmWXC777xbD8aOpX7qIGw1LV3%2B09A53L%2BcM70ci9d%2Bs9TIfOYWd5EB8fSBM9lD2JUcEcuRDNDzgIE8hexPaz0C13CppBcYDmeVptQHJT2FqHMq2Et5xttJZixd4ERuST6EuBLdC6UOwfTMOoLfwoACb6ZN5kmdBo2BgnQ%3D%3D&response-content-disposition=attachment%3B+filename%3Dtrain.csv\"\n",
    "test_data_link = \"https://storage.googleapis.com/kagglesdsdata/competitions/10211/111096/test.csv?GoogleAccessId=web-data@kaggle-161607.iam.gserviceaccount.com&Expires=1700329692&Signature=q4JbSnDbjzH5gl2d%2BEG%2B66jCygY%2BCg8EyYFni8aBYo5SWVVG1q9tD4ktcWVSlpuu4wiIqXDek5LGNdCcQmHW%2BKCrCl4aIdGXWjCzkNnO9lxCAHHsSiHi8q%2BjDw4JzIbjzD%2FC0FzEjif3wWeeVg5u701YMMsH1UbzMXf2L%2F%2BtQxIEzv7LjuN%2BlmJDwznyY6sw8wYKSU77nCzR%2Bs%2B8An8bIFHgbXeBsznmyhf5nglkeeg7%2B0t37m%2Bz4OqYrb9rM5A8iAFYZF6DSJg%2F%2B7zUuASgBSjAw%2F3EBdFqerEk%2F%2FRhMqkx4RWQqpr7hJkM7c0FwEi8OXmoAGUslt430tbGiLko3w%3D%3D&response-content-disposition=attachment%3B+filename%3Dtest.csv\"\n",
    "\n",
    "train_data = pd.read_csv(train_data_link, index_col = 0)\n",
    "X_test = pd.read_csv(test_data_link, index_col = 0)\n",
    "\n",
    "X_train = train_data.drop(\"SalePrice\", axis = 1)\n",
    "y_train = train_data[\"SalePrice\"]\n",
    "\n",
    "X_full = pd.concat([X_train, X_test])"
   ]
  },
  {
   "cell_type": "markdown",
   "id": "90c211f0-c369-4cea-91a0-8d72615f082a",
   "metadata": {},
   "source": [
    "## Empty values"
   ]
  },
  {
   "cell_type": "code",
   "execution_count": 4,
   "id": "3a8430b4-0710-4b86-9072-f43b14d64248",
   "metadata": {},
   "outputs": [],
   "source": [
    "# drop all columns that have more than 15% empty values\n",
    "X_full = X_full.loc[:, X_full.isna().sum()/X_full.shape[0] <= 0.15]\n",
    "\n",
    "# we will deal with categorical and numerical columns in different ways\n",
    "numeric_columns = X_full.select_dtypes(\"number\").columns.to_numpy()\n",
    "categorial_columns = np.setdiff1d(X_full.columns, numeric_columns)\n",
    "\n",
    "X_full[list(numeric_columns)] = (\n",
    "    X_full[list(numeric_columns)].\n",
    "    fillna(X_full[list(numeric_columns)].mean())\n",
    ")\n",
    "X_full[list(categorial_columns)] = X_full[\n",
    "    list(categorial_columns)\n",
    "].fillna(\n",
    "    X_full[list(categorial_columns)].mode().iloc[0, :]\n",
    ")\n",
    "\n",
    "# finally map changes to the train/test dataframe\n",
    "X_train = X_full.loc[X_train.index]\n",
    "X_test = X_full.loc[X_test.index]"
   ]
  },
  {
   "cell_type": "markdown",
   "id": "fab9cd48-08d3-4db3-994c-4d84b07b86f6",
   "metadata": {},
   "source": [
    "## Model pipeline"
   ]
  },
  {
   "cell_type": "code",
   "execution_count": 20,
   "id": "9c320144-d200-44b5-bb6d-eb56f756b9e5",
   "metadata": {},
   "outputs": [],
   "source": [
    "ohe_cat_columns = categorial_columns[X_full[categorial_columns].nunique() < 5]\n",
    "mse_cat_columns = np.setdiff1d(categorial_columns, ohe_cat_columns)\n",
    "\n",
    "get_cols_inds = lambda cols: [X_full.columns.get_loc(col) for col in cols]\n",
    "\n",
    "columns_transformer = ColumnTransformer(\n",
    "    transformers = [\n",
    "        (\"one_hot_encoder\", OneHotEncoder(), get_cols_inds(ohe_cat_columns)),\n",
    "        (\n",
    "            \"mean_traget_encoder\", \n",
    "            TargetEncoder(\n",
    "                target_type = \"continuous\"), \n",
    "                get_cols_inds(mse_cat_columns)\n",
    "        ),\n",
    "        (\"standart_scaler\", StandardScaler(), get_cols_inds(numeric_columns))\n",
    "    ]\n",
    ")\n",
    "\n",
    "pipe = Pipeline([\n",
    "    (\"columns_transformer\", columns_transformer),\n",
    "    (\"model\", RandomForestRegressor())\n",
    "])"
   ]
  },
  {
   "cell_type": "code",
   "execution_count": 23,
   "id": "21e7ac96-f34f-4198-967c-9d544696dd77",
   "metadata": {},
   "outputs": [],
   "source": [
    "from sklearn.metrics import mean_squared_error"
   ]
  },
  {
   "cell_type": "code",
   "execution_count": 28,
   "id": "7b5aeb02-890c-4fe2-a87e-fc1cb2ba40eb",
   "metadata": {},
   "outputs": [],
   "source": [
    "model = pipe.fit(X_train, y_train)"
   ]
  },
  {
   "cell_type": "code",
   "execution_count": 32,
   "id": "ef385183-9ec1-430f-96eb-bca0ae25b2a4",
   "metadata": {},
   "outputs": [
    {
     "data": {
      "text/plain": [
       "180921.19589041095"
      ]
     },
     "execution_count": 32,
     "metadata": {},
     "output_type": "execute_result"
    }
   ],
   "source": [
    "y_train.mean()"
   ]
  },
  {
   "cell_type": "code",
   "execution_count": 30,
   "id": "dcca94c4-cf3a-4d90-813d-28053bebeff8",
   "metadata": {},
   "outputs": [
    {
     "data": {
      "text/plain": [
       "13100.432152848658"
      ]
     },
     "execution_count": 30,
     "metadata": {},
     "output_type": "execute_result"
    }
   ],
   "source": [
    "mean_squared_error(\n",
    "    y_train,\n",
    "    model.predict(X_train)\n",
    ")**(1/2)"
   ]
  }
 ],
 "metadata": {
  "kernelspec": {
   "display_name": "Python 3 (ipykernel)",
   "language": "python",
   "name": "python3"
  },
  "language_info": {
   "codemirror_mode": {
    "name": "ipython",
    "version": 3
   },
   "file_extension": ".py",
   "mimetype": "text/x-python",
   "name": "python",
   "nbconvert_exporter": "python",
   "pygments_lexer": "ipython3",
   "version": "3.10.12"
  }
 },
 "nbformat": 4,
 "nbformat_minor": 5
}
