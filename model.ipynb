{
 "cells": [
  {
   "cell_type": "markdown",
   "id": "acbf3ed0-559f-4284-bc98-2d5132ce6a8c",
   "metadata": {},
   "source": [
    "# House prices"
   ]
  },
  {
   "cell_type": "code",
   "execution_count": 1,
   "id": "b614413a-bfc2-47a8-96af-199b99b6673b",
   "metadata": {},
   "outputs": [],
   "source": [
    "import pandas as pd"
   ]
  },
  {
   "cell_type": "markdown",
   "id": "f1676146-d622-48ac-bab1-9232adc21d7d",
   "metadata": {},
   "source": [
    "## Data loading"
   ]
  },
  {
   "cell_type": "code",
   "execution_count": 2,
   "id": "9783b115-0d55-4b69-ac97-4318d2238caa",
   "metadata": {},
   "outputs": [],
   "source": [
    "train_data_link = \"https://storage.googleapis.com/kagglesdsdata/competitions/10211/111096/train.csv?GoogleAccessId=web-data@kaggle-161607.iam.gserviceaccount.com&Expires=1700329433&Signature=xWLQoWm5AFNswwtoSdz4fB5VtSvQRE4PESVJQE5oygFXQG4blCuSv36pLcY4An00SDKa6%2FdGgd6OBiNrJOAwqjmoNpq2Z44YXx6OpEcXAWi%2BTMV1ld7Uks10yaneHRDyxUvHnTqgREnyLrQ%2FExcFsf9%2FRy%2F5GhunNUQGocgD05CKTqsIefmWXC777xbD8aOpX7qIGw1LV3%2B09A53L%2BcM70ci9d%2Bs9TIfOYWd5EB8fSBM9lD2JUcEcuRDNDzgIE8hexPaz0C13CppBcYDmeVptQHJT2FqHMq2Et5xttJZixd4ERuST6EuBLdC6UOwfTMOoLfwoACb6ZN5kmdBo2BgnQ%3D%3D&response-content-disposition=attachment%3B+filename%3Dtrain.csv\"\n",
    "test_data_link = \"https://storage.googleapis.com/kagglesdsdata/competitions/10211/111096/test.csv?GoogleAccessId=web-data@kaggle-161607.iam.gserviceaccount.com&Expires=1700329692&Signature=q4JbSnDbjzH5gl2d%2BEG%2B66jCygY%2BCg8EyYFni8aBYo5SWVVG1q9tD4ktcWVSlpuu4wiIqXDek5LGNdCcQmHW%2BKCrCl4aIdGXWjCzkNnO9lxCAHHsSiHi8q%2BjDw4JzIbjzD%2FC0FzEjif3wWeeVg5u701YMMsH1UbzMXf2L%2F%2BtQxIEzv7LjuN%2BlmJDwznyY6sw8wYKSU77nCzR%2Bs%2B8An8bIFHgbXeBsznmyhf5nglkeeg7%2B0t37m%2Bz4OqYrb9rM5A8iAFYZF6DSJg%2F%2B7zUuASgBSjAw%2F3EBdFqerEk%2F%2FRhMqkx4RWQqpr7hJkM7c0FwEi8OXmoAGUslt430tbGiLko3w%3D%3D&response-content-disposition=attachment%3B+filename%3Dtest.csv\"\n",
    "\n",
    "train_data = pd.read_csv(train_data_link, index_col = 0)\n",
    "X_test = pd.read_csv(test_data_link, index_col = 0)\n",
    "\n",
    "X_train = train_data.drop(\"SalePrice\", axis = 1)\n",
    "y_train = train_data[\"SalePrice\"]\n",
    "\n",
    "X_full = pd.concat([X_train, X_test])"
   ]
  },
  {
   "cell_type": "markdown",
   "id": "90c211f0-c369-4cea-91a0-8d72615f082a",
   "metadata": {},
   "source": [
    "## Empty values"
   ]
  },
  {
   "cell_type": "code",
   "execution_count": 46,
   "id": "89bdcef2-2752-4c02-b7f7-194a7354323e",
   "metadata": {},
   "outputs": [],
   "source": [
    "# drop all columns that have more than 15% empty values\n",
    "X_full = X_full.loc[:, X_full.isna().sum()/X_full.shape[0] <= 0.15]\n",
    "\n",
    "# we will deal with categorical and numerical columns in different ways\n",
    "numeric_columns = set(X_full.select_dtypes(\"number\").columns)\n",
    "categorial_columns = set(X_full.columns) - numeric_columns\n",
    "\n",
    "X_full[list(numeric_columns)] = (\n",
    "    X_full[list(numeric_columns)].\n",
    "    fillna(X_full[list(numeric_columns)].mean())\n",
    ")\n",
    "X_full[list(categorial_columns)] = X_full[\n",
    "    list(categorial_columns)\n",
    "].fillna(\n",
    "    X_full[list(categorial_columns)].mode().iloc[0, :]\n",
    ")\n",
    "\n",
    "# finally map changes to the train/test dataframe\n",
    "X_train = X_full.loc[X_train.index]\n",
    "X_test = X_full.loc[X_test.index]"
   ]
  }
 ],
 "metadata": {
  "kernelspec": {
   "display_name": "Python 3 (ipykernel)",
   "language": "python",
   "name": "python3"
  },
  "language_info": {
   "codemirror_mode": {
    "name": "ipython",
    "version": 3
   },
   "file_extension": ".py",
   "mimetype": "text/x-python",
   "name": "python",
   "nbconvert_exporter": "python",
   "pygments_lexer": "ipython3",
   "version": "3.10.12"
  }
 },
 "nbformat": 4,
 "nbformat_minor": 5
}
